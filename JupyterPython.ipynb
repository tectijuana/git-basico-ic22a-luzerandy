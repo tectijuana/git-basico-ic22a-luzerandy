{
 "cells": [
  {
   "cell_type": "code",
   "execution_count": 7,
   "metadata": {},
   "outputs": [
    {
     "name": "stdout",
     "output_type": "stream",
     "text": [
      "\n",
      ">>>>>>>Random Number Generator<<<<<<<\n",
      "\n",
      "Numero inicial200\n",
      "Numero final600\n",
      "nEl numero entre 200 y 600 is:\n",
      "\n",
      "273\n"
     ]
    }
   ],
   "source": [
    "from random import *\n",
    "print(\"\\n>>>>>>>Random Number Generator<<<<<<<\\n\")\n",
    "nmb1=int(input(\"Numero inicial\"))\n",
    "nmb2=int(input(\"Numero final\"))\n",
    "\n",
    "x=randint(nmb1, nmb2)\n",
    "print(\"nEl numero entre\", nmb1, \"y\",nmb2, \"is:\\n\")\n",
    "print(x)"
   ]
  },
  {
   "cell_type": "code",
   "execution_count": 3,
   "metadata": {
    "scrolled": true
   },
   "outputs": [
    {
     "name": "stdout",
     "output_type": "stream",
     "text": [
      "1000101 1110011 1100011 1110010 1101001 1100010 1100101 100000 1100101 1101100 100000 1110100 1100101 1111000 1110100 1101111 100000 1100001 100000 1100011 1101111 1101110 1110110 1100101 1110010 1110100 1101001 1110010 100000 1100101 1101110 100000 1100010 1101001 1101110 1100001 1110010 1101001 1101111\n"
     ]
    }
   ],
   "source": [
    "text=(\"Escribe el texto a convertir en binario\")\n",
    "print(' '.join(format(ord(x), 'b') for x in text))"
   ]
  },
  {
   "cell_type": "code",
   "execution_count": 4,
   "metadata": {},
   "outputs": [
    {
     "name": "stdout",
     "output_type": "stream",
     "text": [
      "1001100 1110101 1111010 100000 1000101 1110010 1100001 1101110 1100100 1111001 100000 1000011 1110010 1110101 1111010 100000 1000010 1100101 1101100 1101100 1101111\n"
     ]
    }
   ],
   "source": [
    "text=(\"Luz Erandy Cruz Bello\")\n",
    "print(' '.join(format(ord(x), 'b') for x in text))"
   ]
  },
  {
   "cell_type": "code",
   "execution_count": 8,
   "metadata": {
    "scrolled": true
   },
   "outputs": [
    {
     "name": "stdout",
     "output_type": "stream",
     "text": [
      "Escribe el texto a convertir en binarioHola materia del conocimiento\n",
      "1001000 1101111 1101100 1100001 100000 1101101 1100001 1110100 1100101 1110010 1101001 1100001 100000 1100100 1100101 1101100 100000 1100011 1101111 1101110 1101111 1100011 1101001 1101101 1101001 1100101 1101110 1110100 1101111\n"
     ]
    }
   ],
   "source": [
    "text=input(\"Escribe el texto a convertir en binario\")\n",
    "print(' '.join(format(ord(x), 'b') for x in text))"
   ]
  },
  {
   "cell_type": "code",
   "execution_count": 6,
   "metadata": {},
   "outputs": [],
   "source": [
    "from turtle import *\n",
    "shape(\"circle\")\n",
    "pencolor(\"blue\")\n",
    "width(2)\n",
    "ondrag(goto)\n",
    "listen()"
   ]
  },
  {
   "cell_type": "code",
   "execution_count": null,
   "metadata": {},
   "outputs": [],
   "source": []
  }
 ],
 "metadata": {
  "kernelspec": {
   "display_name": "Python 3",
   "language": "python",
   "name": "python3"
  },
  "language_info": {
   "codemirror_mode": {
    "name": "ipython",
    "version": 3
   },
   "file_extension": ".py",
   "mimetype": "text/x-python",
   "name": "python",
   "nbconvert_exporter": "python",
   "pygments_lexer": "ipython3",
   "version": "3.7.0"
  }
 },
 "nbformat": 4,
 "nbformat_minor": 2
}
